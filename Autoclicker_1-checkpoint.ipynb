{
 "cells": [
  {
   "cell_type": "code",
   "execution_count": 1,
   "id": "d7c8c733-67cb-488d-a58c-c990655e9505",
   "metadata": {},
   "outputs": [],
   "source": [
    "#Import appropriate tools and dependencies \n",
    "\n",
    "import time\n",
    "import threading\n",
    "from pynput.mouse import Button, Controller\n",
    "from pynput.keyboard import Listener, KeyCode "
   ]
  },
  {
   "cell_type": "code",
   "execution_count": 2,
   "id": "75954152-b916-4bdf-96d7-30e07b03b7e0",
   "metadata": {},
   "outputs": [],
   "source": [
    "#Define proper variables for clicker\n",
    "\n",
    "delay = 0.001\n",
    "button = Button.left\n",
    "start_stop_key = KeyCode(char='s')\n",
    "exit_key = KeyCode(char='e')"
   ]
  },
  {
   "cell_type": "code",
   "execution_count": 3,
   "id": "2600cf05-f65a-4001-9b49-a797ed86b9b5",
   "metadata": {},
   "outputs": [],
   "source": [
    "#Create class, create methods to control autoclicker in seperate thread\n",
    "\n",
    "class ClickMouse(threading.Thread):\n",
    "    def __init__(self, delay, button):\n",
    "        super().__init__()\n",
    "        self.delay = delay\n",
    "        self.button = button\n",
    "        self.running = False \n",
    "        self.programming_running = True\n",
    "        \n",
    "    def start_clicking(self):\n",
    "        self.running = True\n",
    "    \n",
    "    def stop_clicking(self):\n",
    "        self.running = False\n",
    "    \n",
    "    def exit(self):\n",
    "        self.stop_clicking()\n",
    "        self.program_running = False\n",
    "        \n",
    "    #Creating another method with a program_running loop to be called when the thread is called. \n",
    "    \n",
    "    def run(self):\n",
    "        while self.program_running:\n",
    "            while self.running:\n",
    "                mouse.click(self.button)\n",
    "                time.sleep(self.delay)\n",
    "\n",
    "    \n"
   ]
  },
  {
   "cell_type": "code",
   "execution_count": 4,
   "id": "782cfbb9-fdc6-4ea4-b7a6-6101dda90363",
   "metadata": {},
   "outputs": [
    {
     "name": "stderr",
     "output_type": "stream",
     "text": [
      "Exception in thread Thread-5:\n",
      "Traceback (most recent call last):\n",
      "  File \"C:\\Users\\dthra\\anaconda3\\lib\\threading.py\", line 973, in _bootstrap_inner\n",
      "    self.run()\n",
      "  File \"C:\\Users\\dthra\\AppData\\Local\\Temp\\ipykernel_22592\\2155293006.py\", line 24, in run\n",
      "AttributeError: 'ClickMouse' object has no attribute 'program_running'\n"
     ]
    }
   ],
   "source": [
    "#Now create a mouse controller and start the program\n",
    "\n",
    "mouse = Controller()\n",
    "click_thread = ClickMouse(delay, button)\n",
    "click_thread.start()"
   ]
  },
  {
   "cell_type": "code",
   "execution_count": 6,
   "id": "e968bdab-9937-47e8-b79c-15c824f70b34",
   "metadata": {},
   "outputs": [],
   "source": [
    "#Create an on_press method with a loop, pass on_press into Listener to join into main thread\n",
    "\n",
    "def on_press(key):\n",
    "    if key == start_stop_key:\n",
    "        if click_thread.running:\n",
    "            click_thread.stop_clicking()\n",
    "        \n",
    "        else:\n",
    "            click_thread.start_clicking()\n",
    "    elif key == exit_key:\n",
    "            click_thread.exit()\n",
    "            listener.stop()\n",
    "with Listener(on_press=on_press) as listener:\n",
    "    listener.join()"
   ]
  },
  {
   "cell_type": "code",
   "execution_count": null,
   "id": "547a7665-100c-4b60-af54-cd8e6f828141",
   "metadata": {},
   "outputs": [],
   "source": []
  }
 ],
 "metadata": {
  "kernelspec": {
   "display_name": "Python 3 (ipykernel)",
   "language": "python",
   "name": "python3"
  },
  "language_info": {
   "codemirror_mode": {
    "name": "ipython",
    "version": 3
   },
   "file_extension": ".py",
   "mimetype": "text/x-python",
   "name": "python",
   "nbconvert_exporter": "python",
   "pygments_lexer": "ipython3",
   "version": "3.9.7"
  }
 },
 "nbformat": 4,
 "nbformat_minor": 5
}
